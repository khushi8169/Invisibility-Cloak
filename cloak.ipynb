{
 "cells": [
  {
   "cell_type": "code",
   "execution_count": null,
   "id": "37cbb334-013c-4464-9e41-c9da4b089a96",
   "metadata": {},
   "outputs": [
    {
     "name": "stdout",
     "output_type": "stream",
     "text": [
      "Press ESC to exit.\n"
     ]
    }
   ],
   "source": [
    "import cv2\n",
    "import time\n",
    "import numpy as np\n",
    "\n",
    "cap = cv2.VideoCapture(0)\n",
    "time.sleep(2)\n",
    "\n",
    "# Capture the background frame\n",
    "for i in range(30):\n",
    "    ret, background = cap.read()\n",
    "background = np.flip(background, axis=1) \n",
    "\n",
    "\n",
    "def filter_mask(mask):\n",
    "    close_mask = cv2.morphologyEx(mask, cv2.MORPH_CLOSE, close_kernel)\n",
    "    open_mask = cv2.morphologyEx(close_mask, cv2.MORPH_OPEN, open_kernel)\n",
    "    dilation = cv2.dilate(open_mask, dilation_kernel, iterations=1)\n",
    "    return dilation\n",
    "print(\"Press ESC to exit.\")\n",
    "\n",
    "\n",
    "while cap.isOpened():\n",
    "    ret, frame = cap.read()\n",
    "    if not ret:\n",
    "        break\n",
    "\n",
    "    frame = np.flip(frame, axis=1)  # Flip frame for mirror effect\n",
    "\n",
    "    # Convert to HSV color space\n",
    "    hsv = cv2.cvtColor(frame, cv2.COLOR_BGR2HSV)\n",
    "\n",
    "    # Set HSV range for green cloak (adjust if needed)\n",
    "    lower_green = np.array([50, 80, 50])\n",
    "    upper_green = np.array([90, 255, 255])\n",
    "\n",
    "    # Create mask for green color\n",
    "    mask = cv2.inRange(hsv, lower_green, upper_green)\n",
    "    mask = filter_mask(mask)\n",
    "\n",
    "    # Segment out green color from the background\n",
    "    cloak_area = cv2.bitwise_and(background, background, mask=mask)\n",
    "\n",
    "    # Invert mask to get the rest of the frame\n",
    "    inverse_mask = cv2.bitwise_not(mask)\n",
    "    current_frame = cv2.bitwise_and(frame, frame, mask=inverse_mask)\n",
    "\n",
    "    # Combine both images\n",
    "    final_output = cv2.add(cloak_area, current_frame)\n",
    "\n",
    "    # Display the output\n",
    "    cv2.imshow('Invisible Cloak - Press ESC to Exit', final_output)\n",
    "\n",
    "    # Exit on pressing ESC key\n",
    "    if cv2.waitKey(1) == 27:\n",
    "        break\n",
    "\n",
    "cap.release()\n",
    "cv2.destroyAllWindows()"
   ]
  },
  {
   "cell_type": "code",
   "execution_count": null,
   "id": "178a0655-fec0-4755-8e58-6dfd1c2d38a3",
   "metadata": {},
   "outputs": [],
   "source": []
  },
  {
   "cell_type": "code",
   "execution_count": null,
   "id": "ca019fa4-cb51-4608-b52c-0bbbae6c26e2",
   "metadata": {},
   "outputs": [],
   "source": []
  }
 ],
 "metadata": {
  "kernelspec": {
   "display_name": "Python 3 (ipykernel)",
   "language": "python",
   "name": "python3"
  },
  "language_info": {
   "codemirror_mode": {
    "name": "ipython",
    "version": 3
   },
   "file_extension": ".py",
   "mimetype": "text/x-python",
   "name": "python",
   "nbconvert_exporter": "python",
   "pygments_lexer": "ipython3",
   "version": "3.11.0"
  }
 },
 "nbformat": 4,
 "nbformat_minor": 5
}
